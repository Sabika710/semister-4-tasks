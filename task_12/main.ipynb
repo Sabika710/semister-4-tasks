{
 "cells": [
  {
   "cell_type": "code",
   "execution_count": 2,
   "id": "93424b0a",
   "metadata": {},
   "outputs": [],
   "source": [
    "import pandas as pd\n",
    "import csv"
   ]
  },
  {
   "cell_type": "code",
   "execution_count": 4,
   "id": "8351e909",
   "metadata": {},
   "outputs": [],
   "source": [
    "s = pd.read_csv('intents.csv')"
   ]
  },
  {
   "cell_type": "code",
   "execution_count": 5,
   "id": "6e32f88d",
   "metadata": {},
   "outputs": [
    {
     "data": {
      "text/html": [
       "<div>\n",
       "<style scoped>\n",
       "    .dataframe tbody tr th:only-of-type {\n",
       "        vertical-align: middle;\n",
       "    }\n",
       "\n",
       "    .dataframe tbody tr th {\n",
       "        vertical-align: top;\n",
       "    }\n",
       "\n",
       "    .dataframe thead th {\n",
       "        text-align: right;\n",
       "    }\n",
       "</style>\n",
       "<table border=\"1\" class=\"dataframe\">\n",
       "  <thead>\n",
       "    <tr style=\"text-align: right;\">\n",
       "      <th></th>\n",
       "      <th>intents</th>\n",
       "    </tr>\n",
       "  </thead>\n",
       "  <tbody>\n",
       "    <tr>\n",
       "      <th>0</th>\n",
       "      <td>{'tag': 'abstraction', 'patterns': ['Explain d...</td>\n",
       "    </tr>\n",
       "    <tr>\n",
       "      <th>1</th>\n",
       "      <td>{'tag': 'error', 'patterns': ['What is a synta...</td>\n",
       "    </tr>\n",
       "    <tr>\n",
       "      <th>2</th>\n",
       "      <td>{'tag': 'documentation', 'patterns': ['Explain...</td>\n",
       "    </tr>\n",
       "  </tbody>\n",
       "</table>\n",
       "</div>"
      ],
      "text/plain": [
       "                                             intents\n",
       "0  {'tag': 'abstraction', 'patterns': ['Explain d...\n",
       "1  {'tag': 'error', 'patterns': ['What is a synta...\n",
       "2  {'tag': 'documentation', 'patterns': ['Explain..."
      ]
     },
     "execution_count": 5,
     "metadata": {},
     "output_type": "execute_result"
    }
   ],
   "source": [
    "s.head(3)"
   ]
  },
  {
   "cell_type": "code",
   "execution_count": 11,
   "id": "2e87587a",
   "metadata": {},
   "outputs": [
    {
     "name": "stdout",
     "output_type": "stream",
     "text": [
      "            Tags                                          Responses  \\\n",
      "0    abstraction  Data abstraction is a technique used in comput...   \n",
      "1          error  A syntax error is an error in the structure of...   \n",
      "2  documentation  Program documentation is written information t...   \n",
      "3        testing  Software testing is the process of evaluating ...   \n",
      "4  datastructure  A data structure is a way of organizing and st...   \n",
      "\n",
      "                                           Questions  \n",
      "0  Explain data abstraction. | What is data abstr...  \n",
      "1  What is a syntax error | Explain syntax error ...  \n",
      "2  Explain program documentation. Why is it impor...  \n",
      "3                          What is software testing?  \n",
      "4               How do you explain a data structure?  \n"
     ]
    }
   ],
   "source": [
    "import pandas as pd\n",
    "import ast\n",
    "\n",
    "df = pd.read_csv('intents.csv')\n",
    "\n",
    "tags = []\n",
    "responses = []\n",
    "questions = []\n",
    "\n",
    "for index, row in df.iterrows():\n",
    "    intent_dict = ast.literal_eval(row['intents'])\n",
    "    \n",
    "    tags.append(intent_dict['tag'])\n",
    "    \n",
    "    responses.append(' | '.join(intent_dict['responses']))\n",
    "    \n",
    "    questions.append(' | '.join(intent_dict['patterns']))\n",
    "\n",
    "result_df = pd.DataFrame({\n",
    "    'Tags': tags,\n",
    "    'Responses': responses,\n",
    "    'Questions': questions\n",
    "})\n",
    "\n",
    "print(result_df.head())\n",
    "\n",
    "result_df.to_csv('processed_intents.csv', index=False)"
   ]
  },
  {
   "cell_type": "code",
   "execution_count": 6,
   "id": "102ac35a",
   "metadata": {},
   "outputs": [],
   "source": [
    "import re\n",
    "def clean_text(text):\n",
    "  text = text.lower()\n",
    "  text = re.sub(r'[^a-zA-Z0-9\\s]','', text)\n",
    "  text = re.sub(r'\\s+', ' ', text)\n",
    "  return text"
   ]
  },
  {
   "cell_type": "code",
   "execution_count": 7,
   "id": "444c2b4f",
   "metadata": {},
   "outputs": [],
   "source": [
    "df = pd.read_csv('processed_intents.csv')"
   ]
  },
  {
   "cell_type": "code",
   "execution_count": 8,
   "id": "a09035d6",
   "metadata": {},
   "outputs": [
    {
     "data": {
      "text/html": [
       "<div>\n",
       "<style scoped>\n",
       "    .dataframe tbody tr th:only-of-type {\n",
       "        vertical-align: middle;\n",
       "    }\n",
       "\n",
       "    .dataframe tbody tr th {\n",
       "        vertical-align: top;\n",
       "    }\n",
       "\n",
       "    .dataframe thead th {\n",
       "        text-align: right;\n",
       "    }\n",
       "</style>\n",
       "<table border=\"1\" class=\"dataframe\">\n",
       "  <thead>\n",
       "    <tr style=\"text-align: right;\">\n",
       "      <th></th>\n",
       "      <th>Tags</th>\n",
       "      <th>Responses</th>\n",
       "      <th>Questions</th>\n",
       "    </tr>\n",
       "  </thead>\n",
       "  <tbody>\n",
       "    <tr>\n",
       "      <th>0</th>\n",
       "      <td>abstraction</td>\n",
       "      <td>Data abstraction is a technique used in comput...</td>\n",
       "      <td>Explain data abstraction. | What is data abstr...</td>\n",
       "    </tr>\n",
       "    <tr>\n",
       "      <th>1</th>\n",
       "      <td>error</td>\n",
       "      <td>A syntax error is an error in the structure of...</td>\n",
       "      <td>What is a syntax error | Explain syntax error ...</td>\n",
       "    </tr>\n",
       "  </tbody>\n",
       "</table>\n",
       "</div>"
      ],
      "text/plain": [
       "          Tags                                          Responses  \\\n",
       "0  abstraction  Data abstraction is a technique used in comput...   \n",
       "1        error  A syntax error is an error in the structure of...   \n",
       "\n",
       "                                           Questions  \n",
       "0  Explain data abstraction. | What is data abstr...  \n",
       "1  What is a syntax error | Explain syntax error ...  "
      ]
     },
     "execution_count": 8,
     "metadata": {},
     "output_type": "execute_result"
    }
   ],
   "source": [
    "df.head(2)"
   ]
  },
  {
   "cell_type": "code",
   "execution_count": 9,
   "id": "97bb4dbf",
   "metadata": {},
   "outputs": [
    {
     "data": {
      "text/plain": [
       "Tags         0\n",
       "Responses    0\n",
       "Questions    0\n",
       "dtype: int64"
      ]
     },
     "execution_count": 9,
     "metadata": {},
     "output_type": "execute_result"
    }
   ],
   "source": [
    "df.isnull().sum()"
   ]
  },
  {
   "cell_type": "code",
   "execution_count": 14,
   "id": "a21af646",
   "metadata": {},
   "outputs": [
    {
     "name": "stdout",
     "output_type": "stream",
     "text": [
      "Collecting sentence-transformers\n",
      "  Downloading sentence_transformers-4.1.0-py3-none-any.whl.metadata (13 kB)\n",
      "Requirement already satisfied: transformers<5.0.0,>=4.41.0 in c:\\users\\dell\\anaconda3\\lib\\site-packages (from sentence-transformers) (4.41.2)\n",
      "Requirement already satisfied: tqdm in c:\\users\\dell\\anaconda3\\lib\\site-packages (from sentence-transformers) (4.66.5)\n",
      "Requirement already satisfied: torch>=1.11.0 in c:\\users\\dell\\anaconda3\\lib\\site-packages (from sentence-transformers) (2.2.1)\n",
      "Requirement already satisfied: scikit-learn in c:\\users\\dell\\anaconda3\\lib\\site-packages (from sentence-transformers) (1.4.0)\n",
      "Requirement already satisfied: scipy in c:\\users\\dell\\anaconda3\\lib\\site-packages (from sentence-transformers) (1.13.1)\n",
      "Requirement already satisfied: huggingface-hub>=0.20.0 in c:\\users\\dell\\anaconda3\\lib\\site-packages (from sentence-transformers) (0.30.2)\n",
      "Requirement already satisfied: Pillow in c:\\users\\dell\\anaconda3\\lib\\site-packages (from sentence-transformers) (10.4.0)\n",
      "Requirement already satisfied: typing_extensions>=4.5.0 in c:\\users\\dell\\anaconda3\\lib\\site-packages (from sentence-transformers) (4.11.0)\n",
      "Requirement already satisfied: filelock in c:\\users\\dell\\anaconda3\\lib\\site-packages (from huggingface-hub>=0.20.0->sentence-transformers) (3.13.1)\n",
      "Requirement already satisfied: fsspec>=2023.5.0 in c:\\users\\dell\\anaconda3\\lib\\site-packages (from huggingface-hub>=0.20.0->sentence-transformers) (2024.6.1)\n",
      "Requirement already satisfied: packaging>=20.9 in c:\\users\\dell\\anaconda3\\lib\\site-packages (from huggingface-hub>=0.20.0->sentence-transformers) (24.1)\n",
      "Requirement already satisfied: pyyaml>=5.1 in c:\\users\\dell\\anaconda3\\lib\\site-packages (from huggingface-hub>=0.20.0->sentence-transformers) (6.0.1)\n",
      "Requirement already satisfied: requests in c:\\users\\dell\\anaconda3\\lib\\site-packages (from huggingface-hub>=0.20.0->sentence-transformers) (2.32.3)\n",
      "Requirement already satisfied: sympy in c:\\users\\dell\\anaconda3\\lib\\site-packages (from torch>=1.11.0->sentence-transformers) (1.13.1)\n",
      "Requirement already satisfied: networkx in c:\\users\\dell\\anaconda3\\lib\\site-packages (from torch>=1.11.0->sentence-transformers) (3.3)\n",
      "Requirement already satisfied: jinja2 in c:\\users\\dell\\anaconda3\\lib\\site-packages (from torch>=1.11.0->sentence-transformers) (3.1.4)\n",
      "Requirement already satisfied: colorama in c:\\users\\dell\\appdata\\roaming\\python\\python312\\site-packages (from tqdm->sentence-transformers) (0.4.6)\n",
      "Requirement already satisfied: numpy>=1.17 in c:\\users\\dell\\anaconda3\\lib\\site-packages (from transformers<5.0.0,>=4.41.0->sentence-transformers) (1.26.4)\n",
      "Requirement already satisfied: regex!=2019.12.17 in c:\\users\\dell\\anaconda3\\lib\\site-packages (from transformers<5.0.0,>=4.41.0->sentence-transformers) (2024.9.11)\n",
      "Requirement already satisfied: tokenizers<0.20,>=0.19 in c:\\users\\dell\\anaconda3\\lib\\site-packages (from transformers<5.0.0,>=4.41.0->sentence-transformers) (0.19.1)\n",
      "Requirement already satisfied: safetensors>=0.4.1 in c:\\users\\dell\\anaconda3\\lib\\site-packages (from transformers<5.0.0,>=4.41.0->sentence-transformers) (0.5.3)\n",
      "Requirement already satisfied: joblib>=1.2.0 in c:\\users\\dell\\anaconda3\\lib\\site-packages (from scikit-learn->sentence-transformers) (1.4.2)\n",
      "Requirement already satisfied: threadpoolctl>=2.0.0 in c:\\users\\dell\\anaconda3\\lib\\site-packages (from scikit-learn->sentence-transformers) (3.5.0)\n",
      "Requirement already satisfied: MarkupSafe>=2.0 in c:\\users\\dell\\anaconda3\\lib\\site-packages (from jinja2->torch>=1.11.0->sentence-transformers) (2.1.3)\n",
      "Requirement already satisfied: charset-normalizer<4,>=2 in c:\\users\\dell\\anaconda3\\lib\\site-packages (from requests->huggingface-hub>=0.20.0->sentence-transformers) (3.3.2)\n",
      "Requirement already satisfied: idna<4,>=2.5 in c:\\users\\dell\\anaconda3\\lib\\site-packages (from requests->huggingface-hub>=0.20.0->sentence-transformers) (3.7)\n",
      "Requirement already satisfied: urllib3<3,>=1.21.1 in c:\\users\\dell\\anaconda3\\lib\\site-packages (from requests->huggingface-hub>=0.20.0->sentence-transformers) (2.2.3)\n",
      "Requirement already satisfied: certifi>=2017.4.17 in c:\\users\\dell\\anaconda3\\lib\\site-packages (from requests->huggingface-hub>=0.20.0->sentence-transformers) (2024.8.30)\n",
      "Requirement already satisfied: mpmath<1.4,>=1.1.0 in c:\\users\\dell\\anaconda3\\lib\\site-packages (from sympy->torch>=1.11.0->sentence-transformers) (1.3.0)\n",
      "Downloading sentence_transformers-4.1.0-py3-none-any.whl (345 kB)\n",
      "Installing collected packages: sentence-transformers\n",
      "Successfully installed sentence-transformers-4.1.0\n"
     ]
    }
   ],
   "source": [
    "!pip install sentence-transformers"
   ]
  },
  {
   "cell_type": "code",
   "execution_count": 10,
   "id": "95abfd30",
   "metadata": {},
   "outputs": [
    {
     "name": "stderr",
     "output_type": "stream",
     "text": [
      "c:\\Users\\DELL\\anaconda3\\Lib\\site-packages\\huggingface_hub\\file_download.py:896: FutureWarning: `resume_download` is deprecated and will be removed in version 1.0.0. Downloads always resume when possible. If you want to force a new download, use `force_download=True`.\n",
      "  warnings.warn(\n",
      "Xet Storage is enabled for this repo, but the 'hf_xet' package is not installed. Falling back to regular HTTP download. For better performance, install the package with: `pip install huggingface_hub[hf_xet]` or `pip install hf_xet`\n"
     ]
    },
    {
     "data": {
      "application/vnd.jupyter.widget-view+json": {
       "model_id": "5f64f6baaf104f04a42ef26c2940d925",
       "version_major": 2,
       "version_minor": 0
      },
      "text/plain": [
       "model.safetensors:  12%|#1        | 10.5M/90.9M [00:00<?, ?B/s]"
      ]
     },
     "metadata": {},
     "output_type": "display_data"
    },
    {
     "data": {
      "application/vnd.jupyter.widget-view+json": {
       "model_id": "aed82b9ad0fd49c1b1b6097bde554246",
       "version_major": 2,
       "version_minor": 0
      },
      "text/plain": [
       "tokenizer_config.json:   0%|          | 0.00/350 [00:00<?, ?B/s]"
      ]
     },
     "metadata": {},
     "output_type": "display_data"
    },
    {
     "data": {
      "application/vnd.jupyter.widget-view+json": {
       "model_id": "f4f4ff2a3f1b4954a8b60767d2b4773f",
       "version_major": 2,
       "version_minor": 0
      },
      "text/plain": [
       "vocab.txt:   0%|          | 0.00/232k [00:00<?, ?B/s]"
      ]
     },
     "metadata": {},
     "output_type": "display_data"
    },
    {
     "data": {
      "application/vnd.jupyter.widget-view+json": {
       "model_id": "58098dbafa954ce2b3350e82eb55aa0e",
       "version_major": 2,
       "version_minor": 0
      },
      "text/plain": [
       "tokenizer.json:   0%|          | 0.00/466k [00:00<?, ?B/s]"
      ]
     },
     "metadata": {},
     "output_type": "display_data"
    },
    {
     "data": {
      "application/vnd.jupyter.widget-view+json": {
       "model_id": "26c5d7aaaf1c471598041bf54716b1ab",
       "version_major": 2,
       "version_minor": 0
      },
      "text/plain": [
       "special_tokens_map.json:   0%|          | 0.00/112 [00:00<?, ?B/s]"
      ]
     },
     "metadata": {},
     "output_type": "display_data"
    },
    {
     "data": {
      "application/vnd.jupyter.widget-view+json": {
       "model_id": "18167b3feaf940c3b7e7acfc7365c923",
       "version_major": 2,
       "version_minor": 0
      },
      "text/plain": [
       "config.json:   0%|          | 0.00/190 [00:00<?, ?B/s]"
      ]
     },
     "metadata": {},
     "output_type": "display_data"
    }
   ],
   "source": [
    "from sentence_transformers import SentenceTransformer\n",
    "model = SentenceTransformer('sentence-transformers/all-MiniLM-L6-v2')"
   ]
  },
  {
   "cell_type": "code",
   "execution_count": 12,
   "id": "a360d5ca",
   "metadata": {},
   "outputs": [
    {
     "name": "stdout",
     "output_type": "stream",
     "text": [
      "Index(['Tags', 'Responses', 'Questions'], dtype='object')\n"
     ]
    }
   ],
   "source": [
    "print(df.columns)"
   ]
  },
  {
   "cell_type": "code",
   "execution_count": 13,
   "id": "9da7332f",
   "metadata": {},
   "outputs": [],
   "source": [
    "embeddings = model.encode(df['Responses'].values)"
   ]
  },
  {
   "cell_type": "code",
   "execution_count": 14,
   "id": "3f3ad896",
   "metadata": {},
   "outputs": [],
   "source": [
    "import numpy as np\n",
    "embeddings = np.array(embeddings)"
   ]
  },
  {
   "cell_type": "code",
   "execution_count": 15,
   "id": "d6d3f146",
   "metadata": {},
   "outputs": [],
   "source": [
    "np.save('response_embeddings.npy', embeddings)"
   ]
  },
  {
   "cell_type": "code",
   "execution_count": 16,
   "id": "dd8acc02",
   "metadata": {},
   "outputs": [],
   "source": [
    "embeddings = np.load('response_embeddings.npy')"
   ]
  },
  {
   "cell_type": "code",
   "execution_count": 17,
   "id": "be80eab7",
   "metadata": {},
   "outputs": [
    {
     "name": "stdout",
     "output_type": "stream",
     "text": [
      "Collecting faiss-cpu\n",
      "  Downloading faiss_cpu-1.11.0-cp312-cp312-win_amd64.whl.metadata (5.0 kB)\n",
      "Requirement already satisfied: numpy<3.0,>=1.25.0 in c:\\users\\dell\\anaconda3\\lib\\site-packages (from faiss-cpu) (1.26.4)\n",
      "Requirement already satisfied: packaging in c:\\users\\dell\\anaconda3\\lib\\site-packages (from faiss-cpu) (24.1)\n",
      "Downloading faiss_cpu-1.11.0-cp312-cp312-win_amd64.whl (15.0 MB)\n",
      "   ---------------------------------------- 0.0/15.0 MB ? eta -:--:--\n",
      "   ---------------------------------------- 0.0/15.0 MB ? eta -:--:--\n",
      "   ---------------------------------------- 0.0/15.0 MB ? eta -:--:--\n",
      "   ---------------------------------------- 0.0/15.0 MB ? eta -:--:--\n",
      "    --------------------------------------- 0.3/15.0 MB ? eta -:--:--\n",
      "    --------------------------------------- 0.3/15.0 MB ? eta -:--:--\n",
      "    --------------------------------------- 0.3/15.0 MB ? eta -:--:--\n",
      "    --------------------------------------- 0.3/15.0 MB ? eta -:--:--\n",
      "   - -------------------------------------- 0.5/15.0 MB 399.6 kB/s eta 0:00:37\n",
      "   - -------------------------------------- 0.5/15.0 MB 399.6 kB/s eta 0:00:37\n",
      "   - -------------------------------------- 0.5/15.0 MB 399.6 kB/s eta 0:00:37\n",
      "   -- ------------------------------------- 0.8/15.0 MB 404.2 kB/s eta 0:00:36\n",
      "   -- ------------------------------------- 0.8/15.0 MB 404.2 kB/s eta 0:00:36\n",
      "   -- ------------------------------------- 0.8/15.0 MB 404.2 kB/s eta 0:00:36\n",
      "   -- ------------------------------------- 1.0/15.0 MB 412.6 kB/s eta 0:00:34\n",
      "   -- ------------------------------------- 1.0/15.0 MB 412.6 kB/s eta 0:00:34\n",
      "   -- ------------------------------------- 1.0/15.0 MB 412.6 kB/s eta 0:00:34\n",
      "   --- ------------------------------------ 1.3/15.0 MB 401.9 kB/s eta 0:00:35\n",
      "   --- ------------------------------------ 1.3/15.0 MB 401.9 kB/s eta 0:00:35\n",
      "   --- ------------------------------------ 1.3/15.0 MB 401.9 kB/s eta 0:00:35\n",
      "   ---- ----------------------------------- 1.6/15.0 MB 401.3 kB/s eta 0:00:34\n",
      "   ---- ----------------------------------- 1.6/15.0 MB 401.3 kB/s eta 0:00:34\n",
      "   ---- ----------------------------------- 1.6/15.0 MB 401.3 kB/s eta 0:00:34\n",
      "   ---- ----------------------------------- 1.8/15.0 MB 412.6 kB/s eta 0:00:32\n",
      "   ---- ----------------------------------- 1.8/15.0 MB 412.6 kB/s eta 0:00:32\n",
      "   ----- ---------------------------------- 2.1/15.0 MB 417.9 kB/s eta 0:00:31\n",
      "   ----- ---------------------------------- 2.1/15.0 MB 417.9 kB/s eta 0:00:31\n",
      "   ----- ---------------------------------- 2.1/15.0 MB 417.9 kB/s eta 0:00:31\n",
      "   ----- ---------------------------------- 2.1/15.0 MB 417.9 kB/s eta 0:00:31\n",
      "   ------ --------------------------------- 2.4/15.0 MB 401.8 kB/s eta 0:00:32\n",
      "   ------ --------------------------------- 2.4/15.0 MB 401.8 kB/s eta 0:00:32\n",
      "   ------ --------------------------------- 2.4/15.0 MB 401.8 kB/s eta 0:00:32\n",
      "   ------ --------------------------------- 2.4/15.0 MB 401.8 kB/s eta 0:00:32\n",
      "   ------ --------------------------------- 2.4/15.0 MB 401.8 kB/s eta 0:00:32\n",
      "   ------ --------------------------------- 2.4/15.0 MB 401.8 kB/s eta 0:00:32\n",
      "   ------ --------------------------------- 2.4/15.0 MB 401.8 kB/s eta 0:00:32\n",
      "   ------ --------------------------------- 2.4/15.0 MB 401.8 kB/s eta 0:00:32\n",
      "   ------ --------------------------------- 2.4/15.0 MB 401.8 kB/s eta 0:00:32\n",
      "   ------ --------------------------------- 2.4/15.0 MB 401.8 kB/s eta 0:00:32\n",
      "   ------ --------------------------------- 2.4/15.0 MB 401.8 kB/s eta 0:00:32\n",
      "   ------ --------------------------------- 2.4/15.0 MB 401.8 kB/s eta 0:00:32\n",
      "   ------ --------------------------------- 2.4/15.0 MB 401.8 kB/s eta 0:00:32\n",
      "   ------ --------------------------------- 2.4/15.0 MB 401.8 kB/s eta 0:00:32\n",
      "   ------ --------------------------------- 2.4/15.0 MB 401.8 kB/s eta 0:00:32\n",
      "   ------ --------------------------------- 2.6/15.0 MB 284.4 kB/s eta 0:00:44\n",
      "   ------ --------------------------------- 2.6/15.0 MB 284.4 kB/s eta 0:00:44\n",
      "   ------ --------------------------------- 2.6/15.0 MB 284.4 kB/s eta 0:00:44\n",
      "   ------- -------------------------------- 2.9/15.0 MB 292.3 kB/s eta 0:00:42\n",
      "   ------- -------------------------------- 2.9/15.0 MB 292.3 kB/s eta 0:00:42\n",
      "   -------- ------------------------------- 3.1/15.0 MB 311.2 kB/s eta 0:00:39\n",
      "   --------- ------------------------------ 3.4/15.0 MB 329.0 kB/s eta 0:00:36\n",
      "   --------- ------------------------------ 3.7/15.0 MB 346.2 kB/s eta 0:00:33\n",
      "   --------- ------------------------------ 3.7/15.0 MB 346.2 kB/s eta 0:00:33\n",
      "   --------- ------------------------------ 3.7/15.0 MB 346.2 kB/s eta 0:00:33\n",
      "   --------- ------------------------------ 3.7/15.0 MB 346.2 kB/s eta 0:00:33\n",
      "   ---------- ----------------------------- 3.9/15.0 MB 349.5 kB/s eta 0:00:32\n",
      "   ---------- ----------------------------- 3.9/15.0 MB 349.5 kB/s eta 0:00:32\n",
      "   ---------- ----------------------------- 3.9/15.0 MB 349.5 kB/s eta 0:00:32\n",
      "   ---------- ----------------------------- 3.9/15.0 MB 349.5 kB/s eta 0:00:32\n",
      "   ---------- ----------------------------- 3.9/15.0 MB 349.5 kB/s eta 0:00:32\n",
      "   ---------- ----------------------------- 3.9/15.0 MB 349.5 kB/s eta 0:00:32\n",
      "   ---------- ----------------------------- 3.9/15.0 MB 349.5 kB/s eta 0:00:32\n",
      "   ---------- ----------------------------- 3.9/15.0 MB 349.5 kB/s eta 0:00:32\n",
      "   ---------- ----------------------------- 3.9/15.0 MB 349.5 kB/s eta 0:00:32\n",
      "   ---------- ----------------------------- 3.9/15.0 MB 349.5 kB/s eta 0:00:32\n",
      "   ----------- ---------------------------- 4.2/15.0 MB 310.3 kB/s eta 0:00:35\n",
      "   ----------- ---------------------------- 4.2/15.0 MB 310.3 kB/s eta 0:00:35\n",
      "   ----------- ---------------------------- 4.2/15.0 MB 310.3 kB/s eta 0:00:35\n",
      "   ----------- ---------------------------- 4.2/15.0 MB 310.3 kB/s eta 0:00:35\n",
      "   ----------- ---------------------------- 4.5/15.0 MB 308.9 kB/s eta 0:00:35\n",
      "   ----------- ---------------------------- 4.5/15.0 MB 308.9 kB/s eta 0:00:35\n",
      "   ----------- ---------------------------- 4.5/15.0 MB 308.9 kB/s eta 0:00:35\n",
      "   ----------- ---------------------------- 4.5/15.0 MB 308.9 kB/s eta 0:00:35\n",
      "   ------------ --------------------------- 4.7/15.0 MB 308.3 kB/s eta 0:00:34\n",
      "   ------------ --------------------------- 4.7/15.0 MB 308.3 kB/s eta 0:00:34\n",
      "   ------------ --------------------------- 4.7/15.0 MB 308.3 kB/s eta 0:00:34\n",
      "   ------------- -------------------------- 5.0/15.0 MB 316.6 kB/s eta 0:00:32\n",
      "   ------------- -------------------------- 5.2/15.0 MB 328.6 kB/s eta 0:00:30\n",
      "   -------------- ------------------------- 5.5/15.0 MB 339.3 kB/s eta 0:00:29\n",
      "   -------------- ------------------------- 5.5/15.0 MB 339.3 kB/s eta 0:00:29\n",
      "   --------------- ------------------------ 5.8/15.0 MB 349.2 kB/s eta 0:00:27\n",
      "   ---------------- ----------------------- 6.0/15.0 MB 359.8 kB/s eta 0:00:25\n",
      "   ---------------- ----------------------- 6.3/15.0 MB 369.6 kB/s eta 0:00:24\n",
      "   ---------------- ----------------------- 6.3/15.0 MB 369.6 kB/s eta 0:00:24\n",
      "   ----------------- ---------------------- 6.6/15.0 MB 379.5 kB/s eta 0:00:23\n",
      "   ------------------ --------------------- 6.8/15.0 MB 389.1 kB/s eta 0:00:22\n",
      "   ------------------ --------------------- 6.8/15.0 MB 389.1 kB/s eta 0:00:22\n",
      "   ------------------ --------------------- 6.8/15.0 MB 389.1 kB/s eta 0:00:22\n",
      "   ------------------ --------------------- 6.8/15.0 MB 389.1 kB/s eta 0:00:22\n",
      "   ------------------ --------------------- 6.8/15.0 MB 389.1 kB/s eta 0:00:22\n",
      "   ------------------ --------------------- 7.1/15.0 MB 379.6 kB/s eta 0:00:21\n",
      "   ------------------ --------------------- 7.1/15.0 MB 379.6 kB/s eta 0:00:21\n",
      "   ------------------ --------------------- 7.1/15.0 MB 379.6 kB/s eta 0:00:21\n",
      "   ------------------ --------------------- 7.1/15.0 MB 379.6 kB/s eta 0:00:21\n",
      "   ------------------ --------------------- 7.1/15.0 MB 379.6 kB/s eta 0:00:21\n",
      "   ------------------ --------------------- 7.1/15.0 MB 379.6 kB/s eta 0:00:21\n",
      "   ------------------ --------------------- 7.1/15.0 MB 379.6 kB/s eta 0:00:21\n",
      "   ------------------ --------------------- 7.1/15.0 MB 379.6 kB/s eta 0:00:21\n",
      "   ------------------ --------------------- 7.1/15.0 MB 379.6 kB/s eta 0:00:21\n",
      "   ------------------ --------------------- 7.1/15.0 MB 379.6 kB/s eta 0:00:21\n",
      "   ------------------ --------------------- 7.1/15.0 MB 379.6 kB/s eta 0:00:21\n",
      "   ------------------ --------------------- 7.1/15.0 MB 379.6 kB/s eta 0:00:21\n",
      "   ------------------ --------------------- 7.1/15.0 MB 379.6 kB/s eta 0:00:21\n",
      "   ------------------ --------------------- 7.1/15.0 MB 379.6 kB/s eta 0:00:21\n",
      "   ------------------- -------------------- 7.3/15.0 MB 340.8 kB/s eta 0:00:23\n",
      "   ------------------- -------------------- 7.3/15.0 MB 340.8 kB/s eta 0:00:23\n",
      "   ------------------- -------------------- 7.3/15.0 MB 340.8 kB/s eta 0:00:23\n",
      "   -------------------- ------------------- 7.6/15.0 MB 342.4 kB/s eta 0:00:22\n",
      "   -------------------- ------------------- 7.6/15.0 MB 342.4 kB/s eta 0:00:22\n",
      "   -------------------- ------------------- 7.6/15.0 MB 342.4 kB/s eta 0:00:22\n",
      "   -------------------- ------------------- 7.9/15.0 MB 345.3 kB/s eta 0:00:21\n",
      "   -------------------- ------------------- 7.9/15.0 MB 345.3 kB/s eta 0:00:21\n",
      "   -------------------- ------------------- 7.9/15.0 MB 345.3 kB/s eta 0:00:21\n",
      "   --------------------- ------------------ 8.1/15.0 MB 345.4 kB/s eta 0:00:20\n",
      "   --------------------- ------------------ 8.1/15.0 MB 345.4 kB/s eta 0:00:20\n",
      "   --------------------- ------------------ 8.1/15.0 MB 345.4 kB/s eta 0:00:20\n",
      "   ---------------------- ----------------- 8.4/15.0 MB 349.1 kB/s eta 0:00:19\n",
      "   ---------------------- ----------------- 8.4/15.0 MB 349.1 kB/s eta 0:00:19\n",
      "   ----------------------- ---------------- 8.7/15.0 MB 352.7 kB/s eta 0:00:19\n",
      "   ----------------------- ---------------- 8.7/15.0 MB 352.7 kB/s eta 0:00:19\n",
      "   ----------------------- ---------------- 8.9/15.0 MB 357.9 kB/s eta 0:00:18\n",
      "   ----------------------- ---------------- 8.9/15.0 MB 357.9 kB/s eta 0:00:18\n",
      "   ------------------------ --------------- 9.2/15.0 MB 363.1 kB/s eta 0:00:17\n",
      "   ------------------------ --------------- 9.2/15.0 MB 363.1 kB/s eta 0:00:17\n",
      "   ------------------------ --------------- 9.2/15.0 MB 363.1 kB/s eta 0:00:17\n",
      "   ------------------------- -------------- 9.4/15.0 MB 364.3 kB/s eta 0:00:16\n",
      "   ------------------------- -------------- 9.4/15.0 MB 364.3 kB/s eta 0:00:16\n",
      "   ------------------------- -------------- 9.7/15.0 MB 368.1 kB/s eta 0:00:15\n",
      "   ------------------------- -------------- 9.7/15.0 MB 368.1 kB/s eta 0:00:15\n",
      "   -------------------------- ------------- 10.0/15.0 MB 371.5 kB/s eta 0:00:14\n",
      "   -------------------------- ------------- 10.0/15.0 MB 371.5 kB/s eta 0:00:14\n",
      "   -------------------------- ------------- 10.0/15.0 MB 371.5 kB/s eta 0:00:14\n",
      "   -------------------------- ------------- 10.0/15.0 MB 371.5 kB/s eta 0:00:14\n",
      "   -------------------------- ------------- 10.0/15.0 MB 371.5 kB/s eta 0:00:14\n",
      "   -------------------------- ------------- 10.0/15.0 MB 371.5 kB/s eta 0:00:14\n",
      "   -------------------------- ------------- 10.0/15.0 MB 371.5 kB/s eta 0:00:14\n",
      "   -------------------------- ------------- 10.0/15.0 MB 371.5 kB/s eta 0:00:14\n",
      "   -------------------------- ------------- 10.0/15.0 MB 371.5 kB/s eta 0:00:14\n",
      "   -------------------------- ------------- 10.0/15.0 MB 371.5 kB/s eta 0:00:14\n",
      "   -------------------------- ------------- 10.0/15.0 MB 371.5 kB/s eta 0:00:14\n",
      "   --------------------------- ------------ 10.2/15.0 MB 350.7 kB/s eta 0:00:14\n",
      "   --------------------------- ------------ 10.2/15.0 MB 350.7 kB/s eta 0:00:14\n",
      "   --------------------------- ------------ 10.2/15.0 MB 350.7 kB/s eta 0:00:14\n",
      "   --------------------------- ------------ 10.2/15.0 MB 350.7 kB/s eta 0:00:14\n",
      "   --------------------------- ------------ 10.5/15.0 MB 350.5 kB/s eta 0:00:13\n",
      "   --------------------------- ------------ 10.5/15.0 MB 350.5 kB/s eta 0:00:13\n",
      "   --------------------------- ------------ 10.5/15.0 MB 350.5 kB/s eta 0:00:13\n",
      "   --------------------------- ------------ 10.5/15.0 MB 350.5 kB/s eta 0:00:13\n",
      "   --------------------------- ------------ 10.5/15.0 MB 350.5 kB/s eta 0:00:13\n",
      "   ---------------------------- ----------- 10.7/15.0 MB 344.6 kB/s eta 0:00:13\n",
      "   ---------------------------- ----------- 10.7/15.0 MB 344.6 kB/s eta 0:00:13\n",
      "   ---------------------------- ----------- 10.7/15.0 MB 344.6 kB/s eta 0:00:13\n",
      "   ---------------------------- ----------- 10.7/15.0 MB 344.6 kB/s eta 0:00:13\n",
      "   ---------------------------- ----------- 10.7/15.0 MB 344.6 kB/s eta 0:00:13\n",
      "   ----------------------------- ---------- 11.0/15.0 MB 340.8 kB/s eta 0:00:12\n",
      "   ----------------------------- ---------- 11.0/15.0 MB 340.8 kB/s eta 0:00:12\n",
      "   ----------------------------- ---------- 11.0/15.0 MB 340.8 kB/s eta 0:00:12\n",
      "   ----------------------------- ---------- 11.0/15.0 MB 340.8 kB/s eta 0:00:12\n",
      "   ------------------------------ --------- 11.3/15.0 MB 337.7 kB/s eta 0:00:12\n",
      "   ------------------------------ --------- 11.3/15.0 MB 337.7 kB/s eta 0:00:12\n",
      "   ------------------------------ --------- 11.3/15.0 MB 337.7 kB/s eta 0:00:12\n",
      "   ------------------------------ --------- 11.5/15.0 MB 337.0 kB/s eta 0:00:11\n",
      "   ------------------------------ --------- 11.5/15.0 MB 337.0 kB/s eta 0:00:11\n",
      "   ------------------------------ --------- 11.5/15.0 MB 337.0 kB/s eta 0:00:11\n",
      "   ------------------------------- -------- 11.8/15.0 MB 336.6 kB/s eta 0:00:10\n",
      "   ------------------------------- -------- 11.8/15.0 MB 336.6 kB/s eta 0:00:10\n",
      "   ------------------------------- -------- 11.8/15.0 MB 336.6 kB/s eta 0:00:10\n",
      "   -------------------------------- ------- 12.1/15.0 MB 337.3 kB/s eta 0:00:09\n",
      "   -------------------------------- ------- 12.1/15.0 MB 337.3 kB/s eta 0:00:09\n",
      "   -------------------------------- ------- 12.3/15.0 MB 340.6 kB/s eta 0:00:08\n",
      "   -------------------------------- ------- 12.3/15.0 MB 340.6 kB/s eta 0:00:08\n",
      "   --------------------------------- ------ 12.6/15.0 MB 344.6 kB/s eta 0:00:08\n",
      "   --------------------------------- ------ 12.6/15.0 MB 344.6 kB/s eta 0:00:08\n",
      "   ---------------------------------- ----- 12.8/15.0 MB 378.9 kB/s eta 0:00:06\n",
      "   ---------------------------------- ----- 12.8/15.0 MB 378.9 kB/s eta 0:00:06\n",
      "   ---------------------------------- ----- 13.1/15.0 MB 383.5 kB/s eta 0:00:05\n",
      "   ---------------------------------- ----- 13.1/15.0 MB 383.5 kB/s eta 0:00:05\n",
      "   ----------------------------------- ---- 13.4/15.0 MB 387.3 kB/s eta 0:00:05\n",
      "   ------------------------------------ --- 13.6/15.0 MB 391.5 kB/s eta 0:00:04\n",
      "   ------------------------------------ --- 13.6/15.0 MB 391.5 kB/s eta 0:00:04\n",
      "   ------------------------------------- -- 13.9/15.0 MB 395.5 kB/s eta 0:00:03\n",
      "   ------------------------------------- -- 13.9/15.0 MB 395.5 kB/s eta 0:00:03\n",
      "   ------------------------------------- -- 14.2/15.0 MB 400.3 kB/s eta 0:00:03\n",
      "   ------------------------------------- -- 14.2/15.0 MB 400.3 kB/s eta 0:00:03\n",
      "   -------------------------------------- - 14.4/15.0 MB 403.9 kB/s eta 0:00:02\n",
      "   ---------------------------------------  14.7/15.0 MB 408.1 kB/s eta 0:00:01\n",
      "   ---------------------------------------  14.7/15.0 MB 408.1 kB/s eta 0:00:01\n",
      "   ---------------------------------------  14.9/15.0 MB 411.1 kB/s eta 0:00:01\n",
      "   ---------------------------------------- 15.0/15.0 MB 412.7 kB/s eta 0:00:00\n",
      "Installing collected packages: faiss-cpu\n",
      "Successfully installed faiss-cpu-1.11.0\n"
     ]
    }
   ],
   "source": [
    "!pip install faiss-cpu"
   ]
  },
  {
   "cell_type": "code",
   "execution_count": 18,
   "id": "b3024506",
   "metadata": {},
   "outputs": [],
   "source": [
    "import faiss\n",
    "\n",
    "dimentions = embeddings.shape[1]\n",
    "faiss_index = faiss.IndexFlatL2(dimentions) "
   ]
  },
  {
   "cell_type": "code",
   "execution_count": 19,
   "id": "aee3bcdf",
   "metadata": {},
   "outputs": [],
   "source": [
    "faiss_index.add(embeddings)"
   ]
  },
  {
   "cell_type": "code",
   "execution_count": 20,
   "id": "f1a8fcf9",
   "metadata": {},
   "outputs": [],
   "source": [
    "faiss.write_index(faiss_index, 'faiss_index.faiss')"
   ]
  },
  {
   "cell_type": "code",
   "execution_count": 21,
   "id": "6a7c6a00",
   "metadata": {},
   "outputs": [],
   "source": [
    "def get_similar_hadith(query, model, faiss_index, count=5):\n",
    "  query_embedding = model.encode([query])\n",
    "  distance, indices = faiss_index.search(query_embedding, count)\n",
    "\n",
    "  for i in range(count):\n",
    "    print(f'Response {i+1}')\n",
    "    print(f\"Distance: {distance[0][i]}\")\n",
    "    print(df['Responses'].iloc[indices[0][i]])"
   ]
  },
  {
   "cell_type": "code",
   "execution_count": 22,
   "id": "09997420",
   "metadata": {},
   "outputs": [
    {
     "name": "stdout",
     "output_type": "stream",
     "text": [
      "Response 1\n",
      "Distance: 0.25925275683403015\n",
      "The degree of a relation in a database management system (DBMS) refers to the number of attributes it has. A relation with a single attribute is called a unary relation, a relation with two attributes is called a binary relation, and a relation with three or more attributes is called a ternary or higher-order relation. The degree of a relation is an important concept in database design, as it affects the structure and organization of the data.\n",
      "Response 2\n",
      "Distance: 0.9372696280479431\n",
      "A database management system (DBMS) is a software application that is used to create, manage, and manipulate databases. A database is a collection of data that is organized in a specific way, allowing for efficient retrieval and manipulation of the data. A DBMS provides a set of tools and interfaces that allow users to create, modify, and query the database, as well as to control access to the data and maintain the integrity and consistency of the data. DBMSs are widely used in a variety of applications, including financial systems, customer relationship management systems, and online shopping systems. They are an essential component of many business and organization systems, as they allow for the efficient storage and management of large amounts of data.\n"
     ]
    }
   ],
   "source": [
    "get_similar_hadith(\"What is a degree of relation in DBMS?\", model, faiss_index, 2)"
   ]
  },
  {
   "cell_type": "code",
   "execution_count": null,
   "id": "a1dab7cc",
   "metadata": {},
   "outputs": [],
   "source": []
  }
 ],
 "metadata": {
  "kernelspec": {
   "display_name": "base",
   "language": "python",
   "name": "python3"
  },
  "language_info": {
   "codemirror_mode": {
    "name": "ipython",
    "version": 3
   },
   "file_extension": ".py",
   "mimetype": "text/x-python",
   "name": "python",
   "nbconvert_exporter": "python",
   "pygments_lexer": "ipython3",
   "version": "3.12.7"
  }
 },
 "nbformat": 4,
 "nbformat_minor": 5
}
